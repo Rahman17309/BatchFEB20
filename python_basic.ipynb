{
  "nbformat": 4,
  "nbformat_minor": 0,
  "metadata": {
    "colab": {
      "provenance": [],
      "authorship_tag": "ABX9TyO08YXP1qC3KbncpOetSTnu",
      "include_colab_link": true
    },
    "kernelspec": {
      "name": "python3",
      "display_name": "Python 3"
    },
    "language_info": {
      "name": "python"
    }
  },
  "cells": [
    {
      "cell_type": "markdown",
      "metadata": {
        "id": "view-in-github",
        "colab_type": "text"
      },
      "source": [
        "<a href=\"https://colab.research.google.com/github/Rahman17309/BatchFEB20/blob/main/python_basic.ipynb\" target=\"_parent\"><img src=\"https://colab.research.google.com/assets/colab-badge.svg\" alt=\"Open In Colab\"/></a>"
      ]
    },
    {
      "cell_type": "code",
      "source": [
        "print(\"Rahman\")"
      ],
      "metadata": {
        "colab": {
          "base_uri": "https://localhost:8080/"
        },
        "id": "jHd8dw-uPaB7",
        "outputId": "f91fd0c2-e7a9-4d5a-ffc6-c95a2bfb96cf"
      },
      "execution_count": 2,
      "outputs": [
        {
          "output_type": "stream",
          "name": "stdout",
          "text": [
            "Rahman\n"
          ]
        }
      ]
    },
    {
      "cell_type": "code",
      "source": [
        "a = 1\n"
      ],
      "metadata": {
        "id": "Y6Wj_QeuX8rN"
      },
      "execution_count": 3,
      "outputs": []
    },
    {
      "cell_type": "code",
      "source": [
        "type(a)"
      ],
      "metadata": {
        "colab": {
          "base_uri": "https://localhost:8080/"
        },
        "id": "mmbt81H4YPsn",
        "outputId": "d5294af8-ee40-429f-c16b-5f23e11fb820"
      },
      "execution_count": 4,
      "outputs": [
        {
          "output_type": "execute_result",
          "data": {
            "text/plain": [
              "int"
            ]
          },
          "metadata": {},
          "execution_count": 4
        }
      ]
    },
    {
      "cell_type": "code",
      "source": [
        "b = 10.9"
      ],
      "metadata": {
        "id": "SaHQhspUYSP7"
      },
      "execution_count": 5,
      "outputs": []
    },
    {
      "cell_type": "code",
      "source": [
        "type(b)"
      ],
      "metadata": {
        "colab": {
          "base_uri": "https://localhost:8080/"
        },
        "id": "ZDcC9ivNaGni",
        "outputId": "cac3398b-523c-405e-893c-a1570acade14"
      },
      "execution_count": 6,
      "outputs": [
        {
          "output_type": "execute_result",
          "data": {
            "text/plain": [
              "float"
            ]
          },
          "metadata": {},
          "execution_count": 6
        }
      ]
    },
    {
      "cell_type": "code",
      "source": [
        "10 + 20"
      ],
      "metadata": {
        "colab": {
          "base_uri": "https://localhost:8080/"
        },
        "id": "VNwJpjPoaIbG",
        "outputId": "f8da2565-0383-4453-8cb4-ce4e3a340054"
      },
      "execution_count": 7,
      "outputs": [
        {
          "output_type": "execute_result",
          "data": {
            "text/plain": [
              "30"
            ]
          },
          "metadata": {},
          "execution_count": 7
        }
      ]
    },
    {
      "cell_type": "code",
      "source": [
        "60/3"
      ],
      "metadata": {
        "colab": {
          "base_uri": "https://localhost:8080/"
        },
        "id": "dY3zgKLmaL4e",
        "outputId": "b4bc9dd3-7747-472b-fac2-148da826f746"
      },
      "execution_count": 8,
      "outputs": [
        {
          "output_type": "execute_result",
          "data": {
            "text/plain": [
              "20.0"
            ]
          },
          "metadata": {},
          "execution_count": 8
        }
      ]
    },
    {
      "cell_type": "code",
      "source": [
        "2^2"
      ],
      "metadata": {
        "colab": {
          "base_uri": "https://localhost:8080/"
        },
        "id": "eyk3RumWaOK_",
        "outputId": "764ba27b-2bf8-44c7-d1f5-bc0c0485cc5a"
      },
      "execution_count": 9,
      "outputs": [
        {
          "output_type": "execute_result",
          "data": {
            "text/plain": [
              "0"
            ]
          },
          "metadata": {},
          "execution_count": 9
        }
      ]
    },
    {
      "cell_type": "code",
      "source": [
        "88//3"
      ],
      "metadata": {
        "colab": {
          "base_uri": "https://localhost:8080/"
        },
        "id": "jku549qCaRNS",
        "outputId": "93d2fb9f-7390-4a6d-9b77-69082874cc61"
      },
      "execution_count": 10,
      "outputs": [
        {
          "output_type": "execute_result",
          "data": {
            "text/plain": [
              "29"
            ]
          },
          "metadata": {},
          "execution_count": 10
        }
      ]
    },
    {
      "cell_type": "code",
      "source": [
        "88/3"
      ],
      "metadata": {
        "colab": {
          "base_uri": "https://localhost:8080/"
        },
        "id": "ooz5UeKtaWby",
        "outputId": "81dad1cd-fae8-4a4e-a5f9-12a55129d68e"
      },
      "execution_count": 11,
      "outputs": [
        {
          "output_type": "execute_result",
          "data": {
            "text/plain": [
              "29.333333333333332"
            ]
          },
          "metadata": {},
          "execution_count": 11
        }
      ]
    },
    {
      "cell_type": "code",
      "source": [
        "33-5"
      ],
      "metadata": {
        "colab": {
          "base_uri": "https://localhost:8080/"
        },
        "id": "uPuMLqZ9aYEm",
        "outputId": "3bfc747a-adea-462c-d52c-0b04c70c8544"
      },
      "execution_count": 12,
      "outputs": [
        {
          "output_type": "execute_result",
          "data": {
            "text/plain": [
              "28"
            ]
          },
          "metadata": {},
          "execution_count": 12
        }
      ]
    },
    {
      "cell_type": "code",
      "source": [
        "4*4"
      ],
      "metadata": {
        "colab": {
          "base_uri": "https://localhost:8080/"
        },
        "id": "vzc2CaEdabUt",
        "outputId": "88f4b757-2c38-4fa5-aca0-30312500c0e1"
      },
      "execution_count": 13,
      "outputs": [
        {
          "output_type": "execute_result",
          "data": {
            "text/plain": [
              "16"
            ]
          },
          "metadata": {},
          "execution_count": 13
        }
      ]
    },
    {
      "cell_type": "code",
      "source": [
        "34 % 3"
      ],
      "metadata": {
        "colab": {
          "base_uri": "https://localhost:8080/"
        },
        "id": "LfgnS4qAac93",
        "outputId": "7194be09-1b91-4ccc-9a17-cab197b86eb2"
      },
      "execution_count": 14,
      "outputs": [
        {
          "output_type": "execute_result",
          "data": {
            "text/plain": [
              "1"
            ]
          },
          "metadata": {},
          "execution_count": 14
        }
      ]
    },
    {
      "cell_type": "code",
      "source": [
        "2^4"
      ],
      "metadata": {
        "colab": {
          "base_uri": "https://localhost:8080/"
        },
        "id": "0Qrkf1Spai3a",
        "outputId": "52397db1-8b27-4d49-abb0-fb253a9e72c0"
      },
      "execution_count": 15,
      "outputs": [
        {
          "output_type": "execute_result",
          "data": {
            "text/plain": [
              "6"
            ]
          },
          "metadata": {},
          "execution_count": 15
        }
      ]
    },
    {
      "cell_type": "code",
      "source": [
        "import math"
      ],
      "metadata": {
        "id": "zXSrElt9bCa-"
      },
      "execution_count": 16,
      "outputs": []
    },
    {
      "cell_type": "code",
      "source": [
        "math.sqrt(64)"
      ],
      "metadata": {
        "colab": {
          "base_uri": "https://localhost:8080/"
        },
        "id": "KR_D4tNobmeb",
        "outputId": "6ecfea0f-1d1f-4201-c524-0f5cbf63df34"
      },
      "execution_count": 17,
      "outputs": [
        {
          "output_type": "execute_result",
          "data": {
            "text/plain": [
              "8.0"
            ]
          },
          "metadata": {},
          "execution_count": 17
        }
      ]
    },
    {
      "cell_type": "code",
      "source": [
        "# comments to be added by hashtags "
      ],
      "metadata": {
        "id": "ikDks9zDbxRS"
      },
      "execution_count": 18,
      "outputs": []
    },
    {
      "cell_type": "code",
      "source": [
        "# to do any maths function you should import math in the code and you can run the code by using arthematic operations "
      ],
      "metadata": {
        "id": "-nKJAmI6b4ey"
      },
      "execution_count": 19,
      "outputs": []
    },
    {
      "cell_type": "code",
      "source": [
        "# arthematic operators +,-,*,/,%"
      ],
      "metadata": {
        "id": "n5w-tPztcFG2"
      },
      "execution_count": 20,
      "outputs": []
    },
    {
      "cell_type": "code",
      "source": [
        "a = 1"
      ],
      "metadata": {
        "id": "djl46zK4cNvd"
      },
      "execution_count": 21,
      "outputs": []
    },
    {
      "cell_type": "code",
      "source": [
        "type(a)"
      ],
      "metadata": {
        "colab": {
          "base_uri": "https://localhost:8080/"
        },
        "id": "gPJjYXO_cR-T",
        "outputId": "a4ce63d5-a275-4752-89bf-0fdb83f7d53d"
      },
      "execution_count": 22,
      "outputs": [
        {
          "output_type": "execute_result",
          "data": {
            "text/plain": [
              "int"
            ]
          },
          "metadata": {},
          "execution_count": 22
        }
      ]
    },
    {
      "cell_type": "code",
      "source": [
        "b = 2.2"
      ],
      "metadata": {
        "id": "vejdYYxxcTPs"
      },
      "execution_count": 23,
      "outputs": []
    },
    {
      "cell_type": "code",
      "source": [
        "type(b)"
      ],
      "metadata": {
        "colab": {
          "base_uri": "https://localhost:8080/"
        },
        "id": "IQtUbPKecVNJ",
        "outputId": "20016722-d36b-4893-9283-ba832d784ab4"
      },
      "execution_count": 24,
      "outputs": [
        {
          "output_type": "execute_result",
          "data": {
            "text/plain": [
              "float"
            ]
          },
          "metadata": {},
          "execution_count": 24
        }
      ]
    },
    {
      "cell_type": "code",
      "source": [
        "c = True "
      ],
      "metadata": {
        "id": "ftOUTMNpcWQh"
      },
      "execution_count": 25,
      "outputs": []
    },
    {
      "cell_type": "code",
      "source": [
        "type(c)"
      ],
      "metadata": {
        "colab": {
          "base_uri": "https://localhost:8080/"
        },
        "id": "ta8iHsYfcYcH",
        "outputId": "78325898-0eb1-409c-ea9d-b76bc311a751"
      },
      "execution_count": 26,
      "outputs": [
        {
          "output_type": "execute_result",
          "data": {
            "text/plain": [
              "bool"
            ]
          },
          "metadata": {},
          "execution_count": 26
        }
      ]
    },
    {
      "cell_type": "code",
      "source": [
        "d = \"hey how are you ?\""
      ],
      "metadata": {
        "id": "ATOUkVLXcaAI"
      },
      "execution_count": 27,
      "outputs": []
    },
    {
      "cell_type": "code",
      "source": [
        "type(d)"
      ],
      "metadata": {
        "id": "_lo3Y0_kcfSi",
        "outputId": "ef54301b-3445-4414-db28-00c43b5259f2",
        "colab": {
          "base_uri": "https://localhost:8080/"
        }
      },
      "execution_count": 28,
      "outputs": [
        {
          "output_type": "execute_result",
          "data": {
            "text/plain": [
              "str"
            ]
          },
          "metadata": {},
          "execution_count": 28
        }
      ]
    },
    {
      "cell_type": "code",
      "source": [
        "#27022023\n"
      ],
      "metadata": {
        "id": "W0WTHJUtcg3C"
      },
      "execution_count": 29,
      "outputs": []
    },
    {
      "cell_type": "code",
      "source": [
        "8 == 8"
      ],
      "metadata": {
        "colab": {
          "base_uri": "https://localhost:8080/"
        },
        "id": "pbWconbxiv_h",
        "outputId": "6d3fe6b1-b4db-4513-98d4-ebada6187cb7"
      },
      "execution_count": 30,
      "outputs": [
        {
          "output_type": "execute_result",
          "data": {
            "text/plain": [
              "True"
            ]
          },
          "metadata": {},
          "execution_count": 30
        }
      ]
    },
    {
      "cell_type": "code",
      "source": [
        "8 ==9\n"
      ],
      "metadata": {
        "colab": {
          "base_uri": "https://localhost:8080/"
        },
        "id": "UKA2uBozkcjf",
        "outputId": "22bc24f9-908b-4cc1-b402-b02f25ef65db"
      },
      "execution_count": 31,
      "outputs": [
        {
          "output_type": "execute_result",
          "data": {
            "text/plain": [
              "False"
            ]
          },
          "metadata": {},
          "execution_count": 31
        }
      ]
    },
    {
      "cell_type": "code",
      "source": [
        "8 != 9"
      ],
      "metadata": {
        "colab": {
          "base_uri": "https://localhost:8080/"
        },
        "id": "d1soMbdTkfVj",
        "outputId": "06cb0f99-5e78-4fb6-a399-e11c5f9cd5f4"
      },
      "execution_count": 32,
      "outputs": [
        {
          "output_type": "execute_result",
          "data": {
            "text/plain": [
              "True"
            ]
          },
          "metadata": {},
          "execution_count": 32
        }
      ]
    },
    {
      "cell_type": "code",
      "source": [
        "7<9"
      ],
      "metadata": {
        "colab": {
          "base_uri": "https://localhost:8080/"
        },
        "id": "YmSLntc2kiOZ",
        "outputId": "6fdad6ba-f989-4ea6-e815-19ad37730157"
      },
      "execution_count": 33,
      "outputs": [
        {
          "output_type": "execute_result",
          "data": {
            "text/plain": [
              "True"
            ]
          },
          "metadata": {},
          "execution_count": 33
        }
      ]
    },
    {
      "cell_type": "code",
      "source": [
        "i=0\n",
        "while i<10 :\n",
        "  print(i)\n",
        "  i=i+1"
      ],
      "metadata": {
        "colab": {
          "base_uri": "https://localhost:8080/"
        },
        "id": "D_s1BblWklFs",
        "outputId": "8ee863e5-589c-4cf7-feab-4ed627dd5883"
      },
      "execution_count": 44,
      "outputs": [
        {
          "output_type": "stream",
          "name": "stdout",
          "text": [
            "0\n",
            "1\n",
            "2\n",
            "3\n",
            "4\n",
            "5\n",
            "6\n",
            "7\n",
            "8\n",
            "9\n"
          ]
        }
      ]
    },
    {
      "cell_type": "code",
      "source": [
        "i=0\n",
        "while i<10 :\n",
        "  print(i)\n",
        "  i=i+1\n",
        "print(\"Good Job\")"
      ],
      "metadata": {
        "colab": {
          "base_uri": "https://localhost:8080/"
        },
        "id": "24ZKjg0vmj7C",
        "outputId": "907c4c2a-6782-4851-c3ff-f1096c5155c1"
      },
      "execution_count": 47,
      "outputs": [
        {
          "output_type": "stream",
          "name": "stdout",
          "text": [
            "0\n",
            "1\n",
            "2\n",
            "3\n",
            "4\n",
            "5\n",
            "6\n",
            "7\n",
            "8\n",
            "9\n",
            "Good Job\n"
          ]
        }
      ]
    },
    {
      "cell_type": "code",
      "source": [
        "i=0\n",
        "while i<22 :\n",
        "  print(i)\n",
        "  i=i+2"
      ],
      "metadata": {
        "colab": {
          "base_uri": "https://localhost:8080/"
        },
        "id": "V9QKaSFBoTfi",
        "outputId": "fc409421-86a1-4233-f548-e2eba66b6bfe"
      },
      "execution_count": 55,
      "outputs": [
        {
          "output_type": "stream",
          "name": "stdout",
          "text": [
            "0\n",
            "2\n",
            "4\n",
            "6\n",
            "8\n",
            "10\n",
            "12\n",
            "14\n",
            "16\n",
            "18\n",
            "20\n"
          ]
        }
      ]
    },
    {
      "cell_type": "code",
      "source": [
        "import numpy as np\n",
        "from numpy.random import randn"
      ],
      "metadata": {
        "id": "fGNHZGwIpGJL"
      },
      "execution_count": 56,
      "outputs": []
    },
    {
      "cell_type": "code",
      "source": [
        "x = randn()\n",
        "x"
      ],
      "metadata": {
        "colab": {
          "base_uri": "https://localhost:8080/"
        },
        "id": "wUwiawzisLfH",
        "outputId": "385174ac-208a-4560-8c26-d491edebca1c"
      },
      "execution_count": 58,
      "outputs": [
        {
          "output_type": "execute_result",
          "data": {
            "text/plain": [
              "0.24323918338387415"
            ]
          },
          "metadata": {},
          "execution_count": 58
        }
      ]
    },
    {
      "cell_type": "code",
      "source": [
        "x = randn()\n",
        "if x<1:\n",
        "  result = \"Greater than 1\"\n",
        "  print(x)\n",
        "  print(result)\n",
        "  \n"
      ],
      "metadata": {
        "colab": {
          "base_uri": "https://localhost:8080/"
        },
        "id": "_HMbDunfsfWd",
        "outputId": "189619f4-0912-4a68-e7db-f6927b4ec074"
      },
      "execution_count": 60,
      "outputs": [
        {
          "output_type": "stream",
          "name": "stdout",
          "text": [
            "-0.20911823983118177\n",
            "Greater than 1\n"
          ]
        }
      ]
    },
    {
      "cell_type": "code",
      "source": [
        "result = None\n",
        "x = randn()\n",
        "if x<1:\n",
        "  result = \"Greater than 1\"\n",
        "  print(x)\n",
        "  print(result)"
      ],
      "metadata": {
        "colab": {
          "base_uri": "https://localhost:8080/"
        },
        "id": "o1G1jKmft1DE",
        "outputId": "f5c510e1-5a71-4a2d-9452-f31c98e5ca33"
      },
      "execution_count": 66,
      "outputs": [
        {
          "output_type": "stream",
          "name": "stdout",
          "text": [
            "0.3253657346813431\n",
            "Greater than 1\n"
          ]
        }
      ]
    },
    {
      "cell_type": "code",
      "source": [
        "result = None\n",
        "x=randn()\n",
        "if x<1:\n",
        "  result=\"Greater value than 1\"\n",
        "else: \n",
        "  result=\"lesser value\"\n",
        "print(x)\n",
        "print(result)"
      ],
      "metadata": {
        "colab": {
          "base_uri": "https://localhost:8080/"
        },
        "id": "NH09S76NvALj",
        "outputId": "3e6d4f17-01d8-4d01-ac79-c4b08e16fb89"
      },
      "execution_count": 72,
      "outputs": [
        {
          "output_type": "stream",
          "name": "stdout",
          "text": [
            "-1.8401462372677113\n",
            "Greater value than 1\n"
          ]
        }
      ]
    },
    {
      "cell_type": "code",
      "source": [
        "result = None\n",
        "x=randn()\n",
        "if x<1:\n",
        "  result=\"Greater value than 1\"\n",
        "else: \n",
        "  result=\"lesser value\"\n",
        "print(x)\n",
        "print(result)"
      ],
      "metadata": {
        "colab": {
          "base_uri": "https://localhost:8080/"
        },
        "id": "BqnzE3cuvU4m",
        "outputId": "5e0d7cad-5a67-4669-ce6a-41ad86d5e6a3"
      },
      "execution_count": 76,
      "outputs": [
        {
          "output_type": "stream",
          "name": "stdout",
          "text": [
            "1.8032978783535574\n",
            "lesser value\n"
          ]
        }
      ]
    },
    {
      "cell_type": "code",
      "source": [
        "list(range(11))"
      ],
      "metadata": {
        "colab": {
          "base_uri": "https://localhost:8080/"
        },
        "id": "xZyBURdevauE",
        "outputId": "85cdaedb-fa6c-4333-95d4-c6db5a28910c"
      },
      "execution_count": 77,
      "outputs": [
        {
          "output_type": "execute_result",
          "data": {
            "text/plain": [
              "[0, 1, 2, 3, 4, 5, 6, 7, 8, 9, 10]"
            ]
          },
          "metadata": {},
          "execution_count": 77
        }
      ]
    },
    {
      "cell_type": "code",
      "source": [
        "i=11\n",
        "if i<11:\n",
        "  print(i)\n",
        "  i=i+11"
      ],
      "metadata": {
        "id": "7YP7lSwavsCg"
      },
      "execution_count": 81,
      "outputs": []
    },
    {
      "cell_type": "code",
      "source": [
        "#chained system\n",
        "result= None\n",
        "x = randn()\n",
        "if x > 1:\n",
        "  result=\"Greater value\"\n",
        "elif x>= -1:\n",
        "  result=\"between -1 to 1\"\n",
        "else :\n",
        "  result=\"lesser value\"\n",
        "print(x)\n",
        "print(result)"
      ],
      "metadata": {
        "colab": {
          "base_uri": "https://localhost:8080/"
        },
        "id": "Un8u81nPwSaZ",
        "outputId": "e945633a-84af-4698-92ea-808cfb6aea88"
      },
      "execution_count": 90,
      "outputs": [
        {
          "output_type": "stream",
          "name": "stdout",
          "text": [
            "0.7879172505117971\n",
            "between -1 to 1\n"
          ]
        }
      ]
    },
    {
      "cell_type": "code",
      "source": [
        "#chained system\n",
        "result= None\n",
        "x = randn()\n",
        "if x > 1:\n",
        "  result=\"Greater value\"\n",
        "elif x>= -1:\n",
        "  result=\"between -1 to 1\"\n",
        "else :\n",
        "  result=\"lesser value\"\n",
        "print(x)\n",
        "print(result)"
      ],
      "metadata": {
        "colab": {
          "base_uri": "https://localhost:8080/"
        },
        "id": "bXP10OZVxLUc",
        "outputId": "c2f9c2da-a21a-4f55-ac4c-24d70d882cc5"
      },
      "execution_count": 92,
      "outputs": [
        {
          "output_type": "stream",
          "name": "stdout",
          "text": [
            "-1.4582439230906903\n",
            "lesser value\n"
          ]
        }
      ]
    },
    {
      "cell_type": "code",
      "source": [
        "#chained system\n",
        "result= None\n",
        "x = randn()\n",
        "if x > 1:\n",
        "  result=\"Greater value\"\n",
        "elif x>= -1:\n",
        "  result=\"between -1 to 1\"\n",
        "else :\n",
        "  result=\"lesser value\"\n",
        "print(x)\n",
        "print(result)"
      ],
      "metadata": {
        "colab": {
          "base_uri": "https://localhost:8080/"
        },
        "id": "pdICwfQrx1tm",
        "outputId": "ead0edda-e16b-4593-f11d-2325f0262d70"
      },
      "execution_count": 101,
      "outputs": [
        {
          "output_type": "stream",
          "name": "stdout",
          "text": [
            "1.8456350170113458\n",
            "Greater value\n"
          ]
        }
      ]
    },
    {
      "cell_type": "code",
      "source": [
        "#indentation is spacing while writting code\n",
        "#chained system\n",
        "result= None\n",
        "x = randn()\n",
        "if x > 1:\n",
        "  result=\"Greater value\"\n",
        "elif x>= -1:\n",
        "  result=\"between -1 to 1\"\n",
        "else :\n",
        "  result=\"lesser value\"\n",
        "print(\"Hello Phython\")\n",
        "print(x)\n",
        "print(result)"
      ],
      "metadata": {
        "colab": {
          "base_uri": "https://localhost:8080/"
        },
        "id": "Q4jAkK6Vx-J8",
        "outputId": "f2fa677d-56b3-4fba-ce1b-359a885eac42"
      },
      "execution_count": 102,
      "outputs": [
        {
          "output_type": "stream",
          "name": "stdout",
          "text": [
            "Hello Phython\n",
            "-1.5550593148820726\n",
            "lesser value\n"
          ]
        }
      ]
    },
    {
      "cell_type": "code",
      "source": [
        "#indentation is spacing while writting code\n",
        "#chained system\n",
        "result= None\n",
        "x = randn()\n",
        "if x > 1:\n",
        "  result=\"Greater value\"\n",
        "elif x>= -1:\n",
        "  result=\"between -1 to 1\"\n",
        "else :\n",
        "  result=\"lesser value\"\n",
        "  print(\"Hello Phython\")\n",
        "print(x)\n",
        "print(result)"
      ],
      "metadata": {
        "colab": {
          "base_uri": "https://localhost:8080/"
        },
        "id": "fvFddz3ryiLG",
        "outputId": "ef9483cc-8bb2-44de-925d-2c834d96a97b"
      },
      "execution_count": 107,
      "outputs": [
        {
          "output_type": "stream",
          "name": "stdout",
          "text": [
            "0.6587630962337806\n",
            "between -1 to 1\n"
          ]
        }
      ]
    },
    {
      "cell_type": "code",
      "source": [
        "letters = ['a','b','c','d','e','f','g','h','i','j']"
      ],
      "metadata": {
        "id": "ZHdcXaIgypj2"
      },
      "execution_count": 112,
      "outputs": []
    },
    {
      "cell_type": "code",
      "source": [
        "letters[1:6]  #start with index letter and end with index +1"
      ],
      "metadata": {
        "colab": {
          "base_uri": "https://localhost:8080/"
        },
        "id": "LdpZbrPa27lf",
        "outputId": "9432157c-0f62-4e38-b864-a12bdf579442"
      },
      "execution_count": 116,
      "outputs": [
        {
          "output_type": "execute_result",
          "data": {
            "text/plain": [
              "['b', 'c', 'd', 'e', 'f']"
            ]
          },
          "metadata": {},
          "execution_count": 116
        }
      ]
    },
    {
      "cell_type": "code",
      "source": [
        "letters[-1] #reverse of number"
      ],
      "metadata": {
        "colab": {
          "base_uri": "https://localhost:8080/",
          "height": 35
        },
        "id": "0IWS1Neq3neM",
        "outputId": "0e423951-6785-4302-8720-c8900d2ee886"
      },
      "execution_count": 121,
      "outputs": [
        {
          "output_type": "execute_result",
          "data": {
            "text/plain": [
              "'j'"
            ],
            "application/vnd.google.colaboratory.intrinsic+json": {
              "type": "string"
            }
          },
          "metadata": {},
          "execution_count": 121
        }
      ]
    },
    {
      "cell_type": "code",
      "source": [
        "letters[7:] #taking numbers from that index no starting "
      ],
      "metadata": {
        "colab": {
          "base_uri": "https://localhost:8080/"
        },
        "id": "n1eJw6d9487m",
        "outputId": "a8584800-9142-4eae-fd09-f578957e8434"
      },
      "execution_count": 124,
      "outputs": [
        {
          "output_type": "execute_result",
          "data": {
            "text/plain": [
              "['h', 'i', 'j']"
            ]
          },
          "metadata": {},
          "execution_count": 124
        }
      ]
    },
    {
      "cell_type": "code",
      "source": [
        "letters[::7] #direct intervals"
      ],
      "metadata": {
        "colab": {
          "base_uri": "https://localhost:8080/"
        },
        "id": "RZY1hauz4_f2",
        "outputId": "197c1458-4ea9-4552-ae95-594881942403"
      },
      "execution_count": 125,
      "outputs": [
        {
          "output_type": "execute_result",
          "data": {
            "text/plain": [
              "['a', 'h']"
            ]
          },
          "metadata": {},
          "execution_count": 125
        }
      ]
    },
    {
      "cell_type": "code",
      "source": [
        "letters[1::2] #taking numbers of in between of those index"
      ],
      "metadata": {
        "colab": {
          "base_uri": "https://localhost:8080/"
        },
        "id": "qQ_J416j5E7a",
        "outputId": "074fee61-c896-448a-a7c2-25db87dda7a4"
      },
      "execution_count": 126,
      "outputs": [
        {
          "output_type": "execute_result",
          "data": {
            "text/plain": [
              "['b', 'd', 'f', 'h', 'j']"
            ]
          },
          "metadata": {},
          "execution_count": 126
        }
      ]
    },
    {
      "cell_type": "code",
      "source": [
        "letters[1:8:2] #taking numbers in intervals of index by giving a number at end "
      ],
      "metadata": {
        "colab": {
          "base_uri": "https://localhost:8080/"
        },
        "id": "w-IRN3xE5W6E",
        "outputId": "bce08947-f026-4739-8fb2-229d15013991"
      },
      "execution_count": 127,
      "outputs": [
        {
          "output_type": "execute_result",
          "data": {
            "text/plain": [
              "['b', 'd', 'f', 'h']"
            ]
          },
          "metadata": {},
          "execution_count": 127
        }
      ]
    },
    {
      "cell_type": "code",
      "source": [],
      "metadata": {
        "id": "RhQ2PsE76GhA"
      },
      "execution_count": null,
      "outputs": []
    }
  ]
}