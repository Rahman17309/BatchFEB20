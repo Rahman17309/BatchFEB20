{
  "nbformat": 4,
  "nbformat_minor": 0,
  "metadata": {
    "colab": {
      "provenance": [],
      "authorship_tag": "ABX9TyMpySkNHAOSmUz0kSGrnxqr",
      "include_colab_link": true
    },
    "kernelspec": {
      "name": "python3",
      "display_name": "Python 3"
    },
    "language_info": {
      "name": "python"
    }
  },
  "cells": [
    {
      "cell_type": "markdown",
      "metadata": {
        "id": "view-in-github",
        "colab_type": "text"
      },
      "source": [
        "<a href=\"https://colab.research.google.com/github/Rahman17309/BatchFEB20/blob/main/Assignment1.ipynb\" target=\"_parent\"><img src=\"https://colab.research.google.com/assets/colab-badge.svg\" alt=\"Open In Colab\"/></a>"
      ]
    },
    {
      "cell_type": "code",
      "execution_count": 1,
      "metadata": {
        "colab": {
          "base_uri": "https://localhost:8080/"
        },
        "id": "ZE20Cp1PKtht",
        "outputId": "81d5358f-e19b-44a4-98f6-44da37d20938"
      },
      "outputs": [
        {
          "output_type": "stream",
          "name": "stdout",
          "text": [
            "Requirement already satisfied: scipy in /usr/local/lib/python3.10/dist-packages (1.10.1)\n",
            "Requirement already satisfied: numpy<1.27.0,>=1.19.5 in /usr/local/lib/python3.10/dist-packages (from scipy) (1.23.5)\n"
          ]
        }
      ],
      "source": [
        "!pip install scipy"
      ]
    },
    {
      "cell_type": "code",
      "source": [
        "import numpy as np\n",
        "import pandas as pd\n",
        "from scipy.stats import skew, kurtosis\n",
        "import matplotlib.pyplot as plt"
      ],
      "metadata": {
        "id": "OXcgDyqiK_tR"
      },
      "execution_count": 2,
      "outputs": []
    },
    {
      "cell_type": "code",
      "source": [
        "##Calculateing Skewness, Kurtosis & drawing inferences on the following data Car’s speed and distance"
      ],
      "metadata": {
        "id": "KQJcma1JOtYa"
      },
      "execution_count": 14,
      "outputs": []
    },
    {
      "cell_type": "code",
      "source": [
        "df = pd.read_csv(\"/content/Q9_a.csv\")"
      ],
      "metadata": {
        "id": "mqCKZXEYK_n5"
      },
      "execution_count": 4,
      "outputs": []
    },
    {
      "cell_type": "code",
      "source": [
        "# Calculate skewness and kurtosis for 'speed' and 'dist' columns"
      ],
      "metadata": {
        "id": "jjZaf-d-K_c5"
      },
      "execution_count": null,
      "outputs": []
    },
    {
      "cell_type": "code",
      "source": [
        "skew_speed = skew(df['speed'])\n",
        "kurtosis_speed = kurtosis(df['speed'])\n",
        "skew_dist = skew(df['dist'])\n",
        "kurtosis_dist = kurtosis(df['dist'])"
      ],
      "metadata": {
        "id": "AnC_xHXVK_Zd"
      },
      "execution_count": 5,
      "outputs": []
    },
    {
      "cell_type": "code",
      "source": [
        "# Print the skewness and kurtosis values"
      ],
      "metadata": {
        "id": "U2b6htVUK_SJ"
      },
      "execution_count": null,
      "outputs": []
    },
    {
      "cell_type": "code",
      "source": [
        "print(f'Skewness of Speed: {skew_speed}')\n",
        "print(f'Kurtosis of Speed: {kurtosis_speed}')\n",
        "print(f'Skewness of Distance: {skew_dist}')\n",
        "print(f'Kurtosis of Distance: {kurtosis_dist}')"
      ],
      "metadata": {
        "colab": {
          "base_uri": "https://localhost:8080/"
        },
        "id": "k-PoAD-ZK_Fh",
        "outputId": "49fc283d-5700-4671-e05b-9b6f0c8b69bf"
      },
      "execution_count": 6,
      "outputs": [
        {
          "output_type": "stream",
          "name": "stdout",
          "text": [
            "Skewness of Speed: -0.11395477012828319\n",
            "Kurtosis of Speed: -0.5771474239437371\n",
            "Skewness of Distance: 0.7824835173114966\n",
            "Kurtosis of Distance: 0.24801865717051808\n"
          ]
        }
      ]
    },
    {
      "cell_type": "code",
      "source": [
        "# Plot histograms for 'speed' and 'dist' columns"
      ],
      "metadata": {
        "id": "exbTOazbL5TD"
      },
      "execution_count": null,
      "outputs": []
    },
    {
      "cell_type": "code",
      "source": [
        "plt.figure(figsize=(12, 4))\n",
        "plt.subplot(1, 2, 1)\n",
        "plt.hist(df['speed'], bins=10, color='skyblue', edgecolor='black')\n",
        "plt.title('Speed Histogram')\n",
        "plt.xlabel('Speed')\n",
        "plt.ylabel('Frequency')\n",
        "plt.subplot(1, 2, 2)\n",
        "plt.hist(df['dist'], bins=10, color='salmon', edgecolor='black')\n",
        "plt.title('Distance Histogram')\n",
        "plt.xlabel('Distance')\n",
        "plt.ylabel('Frequency')\n",
        "plt.tight_layout()\n",
        "plt.show()"
      ],
      "metadata": {
        "colab": {
          "base_uri": "https://localhost:8080/",
          "height": 382
        },
        "id": "p552JSmDL5Ja",
        "outputId": "bad986b3-da8b-485f-b076-293917363de6"
      },
      "execution_count": 7,
      "outputs": [
        {
          "output_type": "display_data",
          "data": {
            "text/plain": [
              "<Figure size 1200x400 with 2 Axes>"
            ],
            "image/png": "[encoded data removed]"
          },
          "metadata": {}
        }
      ]
    },
    {
      "cell_type": "code",
      "source": [
        "###Calculateing Skewness, Kurtosis & drawing inferences on the following data SP and Weight (WT)"
      ],
      "metadata": {
        "id": "SKPaeJfGOq_E"
      },
      "execution_count": 13,
      "outputs": []
    },
    {
      "cell_type": "code",
      "source": [
        "df = pd.read_csv(\"/content/Q9_b.csv\")"
      ],
      "metadata": {
        "id": "wu8MeKCZMGJp"
      },
      "execution_count": 8,
      "outputs": []
    },
    {
      "cell_type": "code",
      "source": [
        "# Calculate skewness and kurtosis for 'SP' and 'WT' columns"
      ],
      "metadata": {
        "id": "Tu2TxAvSOCuh"
      },
      "execution_count": null,
      "outputs": []
    },
    {
      "cell_type": "code",
      "source": [
        "skew_SP = skew(df['SP'])\n",
        "kurtosis_SP = kurtosis(df['SP'])\n",
        "skew_WT = skew(df['WT'])\n",
        "kurtosis_WT = kurtosis(df['WT'])"
      ],
      "metadata": {
        "id": "OBAFt66fOXwx"
      },
      "execution_count": 9,
      "outputs": []
    },
    {
      "cell_type": "code",
      "source": [
        "# Print the skewness and kurtosis values"
      ],
      "metadata": {
        "id": "REi-odL3OXoC"
      },
      "execution_count": null,
      "outputs": []
    },
    {
      "cell_type": "code",
      "source": [
        "print(f'Skewness of SP: {skew_SP}')\n",
        "print(f'Kurtosis of SP: {kurtosis_SP}')\n",
        "print(f'Skewness of WT: {skew_WT}')\n",
        "print(f'Kurtosis of WT: {kurtosis_WT}')"
      ],
      "metadata": {
        "colab": {
          "base_uri": "https://localhost:8080/"
        },
        "id": "8SuLQgAzOXlB",
        "outputId": "dd999b02-4d0b-4871-c55f-ea1369abad1f"
      },
      "execution_count": 10,
      "outputs": [
        {
          "output_type": "stream",
          "name": "stdout",
          "text": [
            "Skewness of SP: 1.5814536794423764\n",
            "Kurtosis of SP: 2.7235214865269244\n",
            "Skewness of WT: -0.6033099322115126\n",
            "Kurtosis of WT: 0.8194658792266849\n"
          ]
        }
      ]
    },
    {
      "cell_type": "code",
      "source": [
        "# Plot histograms for 'SP' and 'WT' columns"
      ],
      "metadata": {
        "id": "WT7mF2ahOXhj"
      },
      "execution_count": null,
      "outputs": []
    },
    {
      "cell_type": "code",
      "source": [
        "plt.figure(figsize=(12, 4))\n",
        "plt.subplot(1, 2, 1)\n",
        "plt.hist(df['SP'], bins=10, color='skyblue', edgecolor='black')\n",
        "plt.title('SP Histogram')\n",
        "plt.xlabel('SP')\n",
        "plt.ylabel('Frequency')\n",
        "plt.subplot(1, 2, 2)\n",
        "plt.hist(df['WT'], bins=10, color='salmon', edgecolor='black')\n",
        "plt.title('WT Histogram')\n",
        "plt.xlabel('WT')\n",
        "plt.ylabel('Frequency')\n",
        "plt.tight_layout()\n",
        "plt.show()"
      ],
      "metadata": {
        "colab": {
          "base_uri": "https://localhost:8080/",
          "height": 382
        },
        "id": "IsENW8CxOXeC",
        "outputId": "bbec440a-92b1-43ef-b671-0b11898ece04"
      },
      "execution_count": 11,
      "outputs": [
        {
          "output_type": "display_data",
          "data": {
            "text/plain": [
              "<Figure size 1200x400 with 2 Axes>"
            ],
            "image/png": "[encoded data removed]"
          },
          "metadata": {}
        }
      ]
    },
    {
      "cell_type": "code",
      "source": [],
      "metadata": {
        "id": "5G4481-GOXUZ"
      },
      "execution_count": null,
      "outputs": []
    }
  ]
}